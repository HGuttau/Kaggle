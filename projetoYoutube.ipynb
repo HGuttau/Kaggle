{
  "nbformat": 4,
  "nbformat_minor": 0,
  "metadata": {
    "colab": {
      "provenance": [],
      "authorship_tag": "ABX9TyPKXEXtPbBVvxsY1NONVJkJ",
      "include_colab_link": true
    },
    "kernelspec": {
      "name": "python3",
      "display_name": "Python 3"
    },
    "language_info": {
      "name": "python"
    }
  },
  "cells": [
    {
      "cell_type": "markdown",
      "metadata": {
        "id": "view-in-github",
        "colab_type": "text"
      },
      "source": [
        "<a href=\"https://colab.research.google.com/github/HGuttau/Kaggle/blob/main/projetoYoutube.ipynb\" target=\"_parent\"><img src=\"https://colab.research.google.com/assets/colab-badge.svg\" alt=\"Open In Colab\"/></a>"
      ]
    },
    {
      "cell_type": "code",
      "source": [
        "!pip install google-api-python-client"
      ],
      "metadata": {
        "colab": {
          "base_uri": "https://localhost:8080/"
        },
        "id": "OdgTNz700OrI",
        "outputId": "fcb9dd5e-cf33-421c-9bd5-e17e4d8800f4"
      },
      "execution_count": null,
      "outputs": [
        {
          "output_type": "stream",
          "name": "stdout",
          "text": [
            "Requirement already satisfied: google-api-python-client in /usr/local/lib/python3.12/dist-packages (2.181.0)\n",
            "Requirement already satisfied: httplib2<1.0.0,>=0.19.0 in /usr/local/lib/python3.12/dist-packages (from google-api-python-client) (0.30.0)\n",
            "Requirement already satisfied: google-auth!=2.24.0,!=2.25.0,<3.0.0,>=1.32.0 in /usr/local/lib/python3.12/dist-packages (from google-api-python-client) (2.38.0)\n",
            "Requirement already satisfied: google-auth-httplib2<1.0.0,>=0.2.0 in /usr/local/lib/python3.12/dist-packages (from google-api-python-client) (0.2.0)\n",
            "Requirement already satisfied: google-api-core!=2.0.*,!=2.1.*,!=2.2.*,!=2.3.0,<3.0.0,>=1.31.5 in /usr/local/lib/python3.12/dist-packages (from google-api-python-client) (2.25.1)\n",
            "Requirement already satisfied: uritemplate<5,>=3.0.1 in /usr/local/lib/python3.12/dist-packages (from google-api-python-client) (4.2.0)\n",
            "Requirement already satisfied: googleapis-common-protos<2.0.0,>=1.56.2 in /usr/local/lib/python3.12/dist-packages (from google-api-core!=2.0.*,!=2.1.*,!=2.2.*,!=2.3.0,<3.0.0,>=1.31.5->google-api-python-client) (1.70.0)\n",
            "Requirement already satisfied: protobuf!=3.20.0,!=3.20.1,!=4.21.0,!=4.21.1,!=4.21.2,!=4.21.3,!=4.21.4,!=4.21.5,<7.0.0,>=3.19.5 in /usr/local/lib/python3.12/dist-packages (from google-api-core!=2.0.*,!=2.1.*,!=2.2.*,!=2.3.0,<3.0.0,>=1.31.5->google-api-python-client) (5.29.5)\n",
            "Requirement already satisfied: proto-plus<2.0.0,>=1.22.3 in /usr/local/lib/python3.12/dist-packages (from google-api-core!=2.0.*,!=2.1.*,!=2.2.*,!=2.3.0,<3.0.0,>=1.31.5->google-api-python-client) (1.26.1)\n",
            "Requirement already satisfied: requests<3.0.0,>=2.18.0 in /usr/local/lib/python3.12/dist-packages (from google-api-core!=2.0.*,!=2.1.*,!=2.2.*,!=2.3.0,<3.0.0,>=1.31.5->google-api-python-client) (2.32.4)\n",
            "Requirement already satisfied: cachetools<6.0,>=2.0.0 in /usr/local/lib/python3.12/dist-packages (from google-auth!=2.24.0,!=2.25.0,<3.0.0,>=1.32.0->google-api-python-client) (5.5.2)\n",
            "Requirement already satisfied: pyasn1-modules>=0.2.1 in /usr/local/lib/python3.12/dist-packages (from google-auth!=2.24.0,!=2.25.0,<3.0.0,>=1.32.0->google-api-python-client) (0.4.2)\n",
            "Requirement already satisfied: rsa<5,>=3.1.4 in /usr/local/lib/python3.12/dist-packages (from google-auth!=2.24.0,!=2.25.0,<3.0.0,>=1.32.0->google-api-python-client) (4.9.1)\n",
            "Requirement already satisfied: pyparsing<4,>=3.0.4 in /usr/local/lib/python3.12/dist-packages (from httplib2<1.0.0,>=0.19.0->google-api-python-client) (3.2.3)\n",
            "Requirement already satisfied: pyasn1<0.7.0,>=0.6.1 in /usr/local/lib/python3.12/dist-packages (from pyasn1-modules>=0.2.1->google-auth!=2.24.0,!=2.25.0,<3.0.0,>=1.32.0->google-api-python-client) (0.6.1)\n",
            "Requirement already satisfied: charset_normalizer<4,>=2 in /usr/local/lib/python3.12/dist-packages (from requests<3.0.0,>=2.18.0->google-api-core!=2.0.*,!=2.1.*,!=2.2.*,!=2.3.0,<3.0.0,>=1.31.5->google-api-python-client) (3.4.3)\n",
            "Requirement already satisfied: idna<4,>=2.5 in /usr/local/lib/python3.12/dist-packages (from requests<3.0.0,>=2.18.0->google-api-core!=2.0.*,!=2.1.*,!=2.2.*,!=2.3.0,<3.0.0,>=1.31.5->google-api-python-client) (3.10)\n",
            "Requirement already satisfied: urllib3<3,>=1.21.1 in /usr/local/lib/python3.12/dist-packages (from requests<3.0.0,>=2.18.0->google-api-core!=2.0.*,!=2.1.*,!=2.2.*,!=2.3.0,<3.0.0,>=1.31.5->google-api-python-client) (2.5.0)\n",
            "Requirement already satisfied: certifi>=2017.4.17 in /usr/local/lib/python3.12/dist-packages (from requests<3.0.0,>=2.18.0->google-api-core!=2.0.*,!=2.1.*,!=2.2.*,!=2.3.0,<3.0.0,>=1.31.5->google-api-python-client) (2025.8.3)\n"
          ]
        }
      ]
    },
    {
      "cell_type": "code",
      "execution_count": null,
      "metadata": {
        "id": "3RZ0f1AjylY_"
      },
      "outputs": [],
      "source": [
        "import pandas as pd\n",
        "import numpy as np\n",
        "import sqlite3 as sq3\n",
        "from googleapiclient.discovery import build\n",
        "from google.colab import userdata\n",
        "api_key = userdata.get('API_YOUTUBE')"
      ]
    },
    {
      "cell_type": "code",
      "source": [
        "conn = sq3.connect('./dataset.db')\n",
        "cursor = conn.cursor()"
      ],
      "metadata": {
        "id": "_WapKIdIy6ng"
      },
      "execution_count": 47,
      "outputs": []
    },
    {
      "cell_type": "code",
      "source": [
        "yt = build(serviceName='youtube', version='v3', developerKey=api_key)\n"
      ],
      "metadata": {
        "id": "tKRF0_kD0fzH"
      },
      "execution_count": 46,
      "outputs": []
    },
    {
      "cell_type": "code",
      "source": [],
      "metadata": {
        "id": "DvC4eLF74x28"
      },
      "execution_count": null,
      "outputs": []
    },
    {
      "cell_type": "code",
      "source": [
        "retorno = yt.search().list(part='snippet',maxResults=5,q='Tutoriais de Python').execute()\n"
      ],
      "metadata": {
        "id": "eKJyNW292JaJ"
      },
      "execution_count": null,
      "outputs": []
    },
    {
      "cell_type": "code",
      "source": [
        "print(retorno)"
      ],
      "metadata": {
        "colab": {
          "base_uri": "https://localhost:8080/"
        },
        "id": "qPdlQamw5RK8",
        "outputId": "d60dfa4f-6e38-44d8-aa97-3910d1daf584"
      },
      "execution_count": null,
      "outputs": [
        {
          "output_type": "stream",
          "name": "stdout",
          "text": [
            "{'kind': 'youtube#searchListResponse', 'etag': '_sYLfCMZ_fJrWZ0pNPaiHl2ekTI', 'nextPageToken': 'CAUQAA', 'regionCode': 'US', 'pageInfo': {'totalResults': 1000000, 'resultsPerPage': 5}, 'items': [{'kind': 'youtube#searchResult', 'etag': 'Ibllw6XtTe5_wYjnfe88skpeaBg', 'id': {'kind': 'youtube#playlist', 'playlistId': 'PLvE-ZAFRgX8hnECDn1v9HNTI71veL3oW0'}, 'snippet': {'publishedAt': '2018-04-15T18:52:48Z', 'channelId': 'UCKiqvR9ovVuUP5ppCEh_Hfw', 'title': 'Curso em vídeo - Python', 'description': '', 'thumbnails': {'default': {'url': 'https://i.ytimg.com/vi/S9uPNppGsGo/default.jpg', 'width': 120, 'height': 90}, 'medium': {'url': 'https://i.ytimg.com/vi/S9uPNppGsGo/mqdefault.jpg', 'width': 320, 'height': 180}, 'high': {'url': 'https://i.ytimg.com/vi/S9uPNppGsGo/hqdefault.jpg', 'width': 480, 'height': 360}}, 'channelTitle': 'Joao Pedro Loyola', 'liveBroadcastContent': 'none', 'publishTime': '2018-04-15T18:52:48Z'}}, {'kind': 'youtube#searchResult', 'etag': 'qybxR_84Lji27nmgjeCDKJqCI9I', 'id': {'kind': 'youtube#video', 'videoId': '4p7axLXXBGU'}, 'snippet': {'publishedAt': '2022-11-03T20:00:02Z', 'channelId': 'UCafFexaRoRylOKdzGBU6Pgg', 'title': 'Aprenda Python em 10min (para Iniciantes)', 'description': 'Quer saber mais sobre o nosso Curso Completo de Python? Clique no link abaixo para garantir sua vaga na próxima turma: ...', 'thumbnails': {'default': {'url': 'https://i.ytimg.com/vi/4p7axLXXBGU/default.jpg', 'width': 120, 'height': 90}, 'medium': {'url': 'https://i.ytimg.com/vi/4p7axLXXBGU/mqdefault.jpg', 'width': 320, 'height': 180}, 'high': {'url': 'https://i.ytimg.com/vi/4p7axLXXBGU/hqdefault.jpg', 'width': 480, 'height': 360}}, 'channelTitle': 'Hashtag Programação', 'liveBroadcastContent': 'none', 'publishTime': '2022-11-03T20:00:02Z'}}, {'kind': 'youtube#searchResult', 'etag': 'mGKGPifbMT8ZBqkAAmA2VYHL3Z4', 'id': {'kind': 'youtube#video', 'videoId': '3J1xBL7zJXg'}, 'snippet': {'publishedAt': '2023-08-15T15:00:07Z', 'channelId': 'UCywooHx7UiGuhvyQS4qcHvA', 'title': 'Python do ZERO ao JÚNIOR - Os vendedores de curso CHORAM | Rápido &amp; Sem enrolação', 'description': 'Único Curso que Recomendo! https://hotm.art/87IDG7m / Cupom 10% de desconto: PPY10 Bora dominar Python de UMA VEZ?', 'thumbnails': {'default': {'url': 'https://i.ytimg.com/vi/3J1xBL7zJXg/default.jpg', 'width': 120, 'height': 90}, 'medium': {'url': 'https://i.ytimg.com/vi/3J1xBL7zJXg/mqdefault.jpg', 'width': 320, 'height': 180}, 'high': {'url': 'https://i.ytimg.com/vi/3J1xBL7zJXg/hqdefault.jpg', 'width': 480, 'height': 360}}, 'channelTitle': 'Programador Python', 'liveBroadcastContent': 'none', 'publishTime': '2023-08-15T15:00:07Z'}}, {'kind': 'youtube#searchResult', 'etag': 'Atw2zMIcvqqAf4BFbmH4bjyfi58', 'id': {'kind': 'youtube#video', 'videoId': '-VeVq64Fgw0'}, 'snippet': {'publishedAt': '2023-12-05T17:00:51Z', 'channelId': 'UCzOGJclZQvPVgYZIwERsf5g', 'title': 'Curso Completo de Python - do Zero ao Avançado (Masterclass)', 'description': 'Curso Completo de Python - do Zero ao Avançado (Masterclass) Neste curso de Python completo você aprenderá a linguagem ...', 'thumbnails': {'default': {'url': 'https://i.ytimg.com/vi/-VeVq64Fgw0/default.jpg', 'width': 120, 'height': 90}, 'medium': {'url': 'https://i.ytimg.com/vi/-VeVq64Fgw0/mqdefault.jpg', 'width': 320, 'height': 180}, 'high': {'url': 'https://i.ytimg.com/vi/-VeVq64Fgw0/hqdefault.jpg', 'width': 480, 'height': 360}}, 'channelTitle': 'Bóson Treinamentos', 'liveBroadcastContent': 'none', 'publishTime': '2023-12-05T17:00:51Z'}}, {'kind': 'youtube#searchResult', 'etag': 'GLF0j-sM49bwXLhf5gBjrE8hBYc', 'id': {'kind': 'youtube#video', 'videoId': 'fWjsdhR3z3c'}, 'snippet': {'publishedAt': '2021-05-26T12:32:40Z', 'channelId': 'UCuudpdbKmQWq2PPzYgVCWlA', 'title': 'Learn Python in Less than 10 Minutes for Beginners (Fast &amp; Easy)', 'description': \"In this crash course I'll be teaching you the basics of Python in less than 10 minutes. Python is super easy to learn compared to ...\", 'thumbnails': {'default': {'url': 'https://i.ytimg.com/vi/fWjsdhR3z3c/default.jpg', 'width': 120, 'height': 90}, 'medium': {'url': 'https://i.ytimg.com/vi/fWjsdhR3z3c/mqdefault.jpg', 'width': 320, 'height': 180}, 'high': {'url': 'https://i.ytimg.com/vi/fWjsdhR3z3c/hqdefault.jpg', 'width': 480, 'height': 360}}, 'channelTitle': 'Indently', 'liveBroadcastContent': 'none', 'publishTime': '2021-05-26T12:32:40Z'}}]}\n"
          ]
        }
      ]
    },
    {
      "cell_type": "code",
      "source": [
        "# vamos tratar o retorno agora:\n",
        "result =  {'id_video' : [],\n",
        "           'snp_data' : [],\n",
        "           'snp_channelid' : [],\n",
        "           'snp_channelName' : [],\n",
        "           'snp_title' : [],\n",
        "           'snp_description' : [],\n",
        "           'snp_thumbnails' : []\n",
        "           }"
      ],
      "metadata": {
        "id": "v_DjfG9x5nGD"
      },
      "execution_count": 43,
      "outputs": []
    },
    {
      "cell_type": "code",
      "source": [
        "for x in retorno['items']:\n",
        "  if x['id']['kind'] == 'youtube#video':\n",
        "    result['id_video'].append(x['id']['videoId'])\n",
        "    result['snp_data'].append(x['snippet']['publishedAt'])\n",
        "    result['snp_channelid'].append(x['snippet']['channelId'])\n",
        "    result['snp_channelName'].append(x['snippet']['channelTitle'])\n",
        "    result['snp_title'].append(x['snippet']['title'])\n",
        "    result['snp_description'].append(x['snippet']['description'])\n",
        "    result['snp_thumbnails'].append(x['snippet']['thumbnails']['high']['url'])\n",
        "  else:\n",
        "    pass\n"
      ],
      "metadata": {
        "id": "WvmoucDmEDh9"
      },
      "execution_count": 44,
      "outputs": []
    },
    {
      "cell_type": "code",
      "source": [
        "cursor('CREATE TABLE ytvideos (video_id )')"
      ],
      "metadata": {
        "id": "2ClxFF6dKjek"
      },
      "execution_count": null,
      "outputs": []
    },
    {
      "cell_type": "code",
      "source": [
        "result"
      ],
      "metadata": {
        "colab": {
          "base_uri": "https://localhost:8080/"
        },
        "id": "PZwhVvG8FCoj",
        "outputId": "6a00c40e-1bc0-4a16-b837-d5d5d3677e92"
      },
      "execution_count": 45,
      "outputs": [
        {
          "output_type": "execute_result",
          "data": {
            "text/plain": [
              "{'id_video': ['4p7axLXXBGU', '3J1xBL7zJXg', '-VeVq64Fgw0', 'fWjsdhR3z3c'],\n",
              " 'snp_data': ['2022-11-03T20:00:02Z',\n",
              "  '2023-08-15T15:00:07Z',\n",
              "  '2023-12-05T17:00:51Z',\n",
              "  '2021-05-26T12:32:40Z'],\n",
              " 'snp_channelid': ['UCafFexaRoRylOKdzGBU6Pgg',\n",
              "  'UCywooHx7UiGuhvyQS4qcHvA',\n",
              "  'UCzOGJclZQvPVgYZIwERsf5g',\n",
              "  'UCuudpdbKmQWq2PPzYgVCWlA'],\n",
              " 'snp_channelName': ['Hashtag Programação',\n",
              "  'Programador Python',\n",
              "  'Bóson Treinamentos',\n",
              "  'Indently'],\n",
              " 'snp_title': ['Aprenda Python em 10min (para Iniciantes)',\n",
              "  'Python do ZERO ao JÚNIOR - Os vendedores de curso CHORAM | Rápido &amp; Sem enrolação',\n",
              "  'Curso Completo de Python - do Zero ao Avançado (Masterclass)',\n",
              "  'Learn Python in Less than 10 Minutes for Beginners (Fast &amp; Easy)'],\n",
              " 'snp_description': ['Quer saber mais sobre o nosso Curso Completo de Python? Clique no link abaixo para garantir sua vaga na próxima turma: ...',\n",
              "  'Único Curso que Recomendo! https://hotm.art/87IDG7m / Cupom 10% de desconto: PPY10 Bora dominar Python de UMA VEZ?',\n",
              "  'Curso Completo de Python - do Zero ao Avançado (Masterclass) Neste curso de Python completo você aprenderá a linguagem ...',\n",
              "  \"In this crash course I'll be teaching you the basics of Python in less than 10 minutes. Python is super easy to learn compared to ...\"],\n",
              " 'snp_thumbnails': ['https://i.ytimg.com/vi/4p7axLXXBGU/hqdefault.jpg',\n",
              "  'https://i.ytimg.com/vi/3J1xBL7zJXg/hqdefault.jpg',\n",
              "  'https://i.ytimg.com/vi/-VeVq64Fgw0/hqdefault.jpg',\n",
              "  'https://i.ytimg.com/vi/fWjsdhR3z3c/hqdefault.jpg']}"
            ]
          },
          "metadata": {},
          "execution_count": 45
        }
      ]
    }
  ]
}