{
 "cells": [
  {
   "cell_type": "code",
   "execution_count": 1,
   "id": "d270f82f",
   "metadata": {
    "execution": {
     "iopub.execute_input": "2025-04-23T19:16:17.937748Z",
     "iopub.status.busy": "2025-04-23T19:16:17.937234Z",
     "iopub.status.idle": "2025-04-23T19:16:18.986076Z",
     "shell.execute_reply": "2025-04-23T19:16:18.984894Z"
    },
    "papermill": {
     "duration": 1.057728,
     "end_time": "2025-04-23T19:16:18.988842",
     "exception": false,
     "start_time": "2025-04-23T19:16:17.931114",
     "status": "completed"
    },
    "tags": []
   },
   "outputs": [],
   "source": [
    "import pandas as pd"
   ]
  },
  {
   "cell_type": "code",
   "execution_count": 2,
   "id": "bed07219",
   "metadata": {
    "execution": {
     "iopub.execute_input": "2025-04-23T19:16:18.999134Z",
     "iopub.status.busy": "2025-04-23T19:16:18.998637Z",
     "iopub.status.idle": "2025-04-23T19:16:19.034956Z",
     "shell.execute_reply": "2025-04-23T19:16:19.033987Z"
    },
    "papermill": {
     "duration": 0.044232,
     "end_time": "2025-04-23T19:16:19.037595",
     "exception": false,
     "start_time": "2025-04-23T19:16:18.993363",
     "status": "completed"
    },
    "tags": []
   },
   "outputs": [],
   "source": [
    "df_gender = pd.read_csv('/kaggle/input/titanic/gender_submission.csv')\n",
    "df_test = pd.read_csv('/kaggle/input/titanic/test.csv')\n",
    "df_train = pd.read_csv('/kaggle/input/titanic/train.csv')"
   ]
  },
  {
   "cell_type": "code",
   "execution_count": 3,
   "id": "74ea5353",
   "metadata": {
    "execution": {
     "iopub.execute_input": "2025-04-23T19:16:19.047869Z",
     "iopub.status.busy": "2025-04-23T19:16:19.047517Z",
     "iopub.status.idle": "2025-04-23T19:16:19.056003Z",
     "shell.execute_reply": "2025-04-23T19:16:19.054648Z"
    },
    "papermill": {
     "duration": 0.016086,
     "end_time": "2025-04-23T19:16:19.058034",
     "exception": false,
     "start_time": "2025-04-23T19:16:19.041948",
     "status": "completed"
    },
    "tags": []
   },
   "outputs": [
    {
     "data": {
      "text/plain": [
       "{'PassengerId'}"
      ]
     },
     "execution_count": 3,
     "metadata": {},
     "output_type": "execute_result"
    }
   ],
   "source": [
    "set(df_gender.columns) & set(df_test.columns)"
   ]
  },
  {
   "cell_type": "code",
   "execution_count": 4,
   "id": "bd36bdc6",
   "metadata": {
    "execution": {
     "iopub.execute_input": "2025-04-23T19:16:19.068031Z",
     "iopub.status.busy": "2025-04-23T19:16:19.067673Z",
     "iopub.status.idle": "2025-04-23T19:16:19.087858Z",
     "shell.execute_reply": "2025-04-23T19:16:19.086085Z"
    },
    "papermill": {
     "duration": 0.028677,
     "end_time": "2025-04-23T19:16:19.091029",
     "exception": false,
     "start_time": "2025-04-23T19:16:19.062352",
     "status": "completed"
    },
    "tags": []
   },
   "outputs": [
    {
     "data": {
      "text/plain": [
       "True"
      ]
     },
     "execution_count": 4,
     "metadata": {},
     "output_type": "execute_result"
    }
   ],
   "source": [
    "## Verificando se as keys de df gender são únicas\n",
    "df_gender['PassengerId'].nunique() == len(df_gender)"
   ]
  },
  {
   "cell_type": "code",
   "execution_count": 5,
   "id": "cb97c913",
   "metadata": {
    "execution": {
     "iopub.execute_input": "2025-04-23T19:16:19.105702Z",
     "iopub.status.busy": "2025-04-23T19:16:19.105222Z",
     "iopub.status.idle": "2025-04-23T19:16:19.115132Z",
     "shell.execute_reply": "2025-04-23T19:16:19.113745Z"
    },
    "papermill": {
     "duration": 0.019763,
     "end_time": "2025-04-23T19:16:19.117775",
     "exception": false,
     "start_time": "2025-04-23T19:16:19.098012",
     "status": "completed"
    },
    "tags": []
   },
   "outputs": [
    {
     "data": {
      "text/plain": [
       "True"
      ]
     },
     "execution_count": 5,
     "metadata": {},
     "output_type": "execute_result"
    }
   ],
   "source": [
    "## Verificando se as keys de df test são únicas\n",
    "df_test['PassengerId'].nunique() == len(df_test)"
   ]
  },
  {
   "cell_type": "code",
   "execution_count": 6,
   "id": "ad0d2b83",
   "metadata": {
    "execution": {
     "iopub.execute_input": "2025-04-23T19:16:19.131615Z",
     "iopub.status.busy": "2025-04-23T19:16:19.131111Z",
     "iopub.status.idle": "2025-04-23T19:16:19.154411Z",
     "shell.execute_reply": "2025-04-23T19:16:19.152992Z"
    },
    "papermill": {
     "duration": 0.033713,
     "end_time": "2025-04-23T19:16:19.157046",
     "exception": false,
     "start_time": "2025-04-23T19:16:19.123333",
     "status": "completed"
    },
    "tags": []
   },
   "outputs": [],
   "source": [
    "## Agora que identifiquei que Passenger_ID é uma chave primaria posso juntar os dois DB's\n",
    "df_merge = pd.merge(df_gender, df_test, on='PassengerId')"
   ]
  },
  {
   "cell_type": "code",
   "execution_count": 7,
   "id": "75613de3",
   "metadata": {
    "execution": {
     "iopub.execute_input": "2025-04-23T19:16:19.168746Z",
     "iopub.status.busy": "2025-04-23T19:16:19.168243Z",
     "iopub.status.idle": "2025-04-23T19:16:19.175859Z",
     "shell.execute_reply": "2025-04-23T19:16:19.174524Z"
    },
    "papermill": {
     "duration": 0.015809,
     "end_time": "2025-04-23T19:16:19.178160",
     "exception": false,
     "start_time": "2025-04-23T19:16:19.162351",
     "status": "completed"
    },
    "tags": []
   },
   "outputs": [
    {
     "data": {
      "text/plain": [
       "{'Age',\n",
       " 'Cabin',\n",
       " 'Embarked',\n",
       " 'Fare',\n",
       " 'Name',\n",
       " 'Parch',\n",
       " 'PassengerId',\n",
       " 'Pclass',\n",
       " 'Sex',\n",
       " 'SibSp',\n",
       " 'Survived',\n",
       " 'Ticket'}"
      ]
     },
     "execution_count": 7,
     "metadata": {},
     "output_type": "execute_result"
    }
   ],
   "source": [
    "set(df_merge.columns)"
   ]
  },
  {
   "cell_type": "code",
   "execution_count": 8,
   "id": "73a6e2b3",
   "metadata": {
    "execution": {
     "iopub.execute_input": "2025-04-23T19:16:19.191357Z",
     "iopub.status.busy": "2025-04-23T19:16:19.190949Z",
     "iopub.status.idle": "2025-04-23T19:16:19.218054Z",
     "shell.execute_reply": "2025-04-23T19:16:19.216677Z"
    },
    "papermill": {
     "duration": 0.037371,
     "end_time": "2025-04-23T19:16:19.220624",
     "exception": false,
     "start_time": "2025-04-23T19:16:19.183253",
     "status": "completed"
    },
    "tags": []
   },
   "outputs": [
    {
     "data": {
      "text/html": [
       "<div>\n",
       "<style scoped>\n",
       "    .dataframe tbody tr th:only-of-type {\n",
       "        vertical-align: middle;\n",
       "    }\n",
       "\n",
       "    .dataframe tbody tr th {\n",
       "        vertical-align: top;\n",
       "    }\n",
       "\n",
       "    .dataframe thead th {\n",
       "        text-align: right;\n",
       "    }\n",
       "</style>\n",
       "<table border=\"1\" class=\"dataframe\">\n",
       "  <thead>\n",
       "    <tr style=\"text-align: right;\">\n",
       "      <th></th>\n",
       "      <th>PassengerId</th>\n",
       "      <th>Survived</th>\n",
       "      <th>Pclass</th>\n",
       "      <th>Name</th>\n",
       "      <th>Sex</th>\n",
       "      <th>Age</th>\n",
       "      <th>SibSp</th>\n",
       "      <th>Parch</th>\n",
       "      <th>Ticket</th>\n",
       "      <th>Fare</th>\n",
       "      <th>Cabin</th>\n",
       "      <th>Embarked</th>\n",
       "    </tr>\n",
       "  </thead>\n",
       "  <tbody>\n",
       "    <tr>\n",
       "      <th>0</th>\n",
       "      <td>892</td>\n",
       "      <td>0</td>\n",
       "      <td>3</td>\n",
       "      <td>Kelly, Mr. James</td>\n",
       "      <td>male</td>\n",
       "      <td>34.5</td>\n",
       "      <td>0</td>\n",
       "      <td>0</td>\n",
       "      <td>330911</td>\n",
       "      <td>7.8292</td>\n",
       "      <td>NaN</td>\n",
       "      <td>Q</td>\n",
       "    </tr>\n",
       "    <tr>\n",
       "      <th>1</th>\n",
       "      <td>893</td>\n",
       "      <td>1</td>\n",
       "      <td>3</td>\n",
       "      <td>Wilkes, Mrs. James (Ellen Needs)</td>\n",
       "      <td>female</td>\n",
       "      <td>47.0</td>\n",
       "      <td>1</td>\n",
       "      <td>0</td>\n",
       "      <td>363272</td>\n",
       "      <td>7.0000</td>\n",
       "      <td>NaN</td>\n",
       "      <td>S</td>\n",
       "    </tr>\n",
       "    <tr>\n",
       "      <th>2</th>\n",
       "      <td>894</td>\n",
       "      <td>0</td>\n",
       "      <td>2</td>\n",
       "      <td>Myles, Mr. Thomas Francis</td>\n",
       "      <td>male</td>\n",
       "      <td>62.0</td>\n",
       "      <td>0</td>\n",
       "      <td>0</td>\n",
       "      <td>240276</td>\n",
       "      <td>9.6875</td>\n",
       "      <td>NaN</td>\n",
       "      <td>Q</td>\n",
       "    </tr>\n",
       "    <tr>\n",
       "      <th>3</th>\n",
       "      <td>895</td>\n",
       "      <td>0</td>\n",
       "      <td>3</td>\n",
       "      <td>Wirz, Mr. Albert</td>\n",
       "      <td>male</td>\n",
       "      <td>27.0</td>\n",
       "      <td>0</td>\n",
       "      <td>0</td>\n",
       "      <td>315154</td>\n",
       "      <td>8.6625</td>\n",
       "      <td>NaN</td>\n",
       "      <td>S</td>\n",
       "    </tr>\n",
       "    <tr>\n",
       "      <th>4</th>\n",
       "      <td>896</td>\n",
       "      <td>1</td>\n",
       "      <td>3</td>\n",
       "      <td>Hirvonen, Mrs. Alexander (Helga E Lindqvist)</td>\n",
       "      <td>female</td>\n",
       "      <td>22.0</td>\n",
       "      <td>1</td>\n",
       "      <td>1</td>\n",
       "      <td>3101298</td>\n",
       "      <td>12.2875</td>\n",
       "      <td>NaN</td>\n",
       "      <td>S</td>\n",
       "    </tr>\n",
       "    <tr>\n",
       "      <th>...</th>\n",
       "      <td>...</td>\n",
       "      <td>...</td>\n",
       "      <td>...</td>\n",
       "      <td>...</td>\n",
       "      <td>...</td>\n",
       "      <td>...</td>\n",
       "      <td>...</td>\n",
       "      <td>...</td>\n",
       "      <td>...</td>\n",
       "      <td>...</td>\n",
       "      <td>...</td>\n",
       "      <td>...</td>\n",
       "    </tr>\n",
       "    <tr>\n",
       "      <th>413</th>\n",
       "      <td>1305</td>\n",
       "      <td>0</td>\n",
       "      <td>3</td>\n",
       "      <td>Spector, Mr. Woolf</td>\n",
       "      <td>male</td>\n",
       "      <td>NaN</td>\n",
       "      <td>0</td>\n",
       "      <td>0</td>\n",
       "      <td>A.5. 3236</td>\n",
       "      <td>8.0500</td>\n",
       "      <td>NaN</td>\n",
       "      <td>S</td>\n",
       "    </tr>\n",
       "    <tr>\n",
       "      <th>414</th>\n",
       "      <td>1306</td>\n",
       "      <td>1</td>\n",
       "      <td>1</td>\n",
       "      <td>Oliva y Ocana, Dona. Fermina</td>\n",
       "      <td>female</td>\n",
       "      <td>39.0</td>\n",
       "      <td>0</td>\n",
       "      <td>0</td>\n",
       "      <td>PC 17758</td>\n",
       "      <td>108.9000</td>\n",
       "      <td>C105</td>\n",
       "      <td>C</td>\n",
       "    </tr>\n",
       "    <tr>\n",
       "      <th>415</th>\n",
       "      <td>1307</td>\n",
       "      <td>0</td>\n",
       "      <td>3</td>\n",
       "      <td>Saether, Mr. Simon Sivertsen</td>\n",
       "      <td>male</td>\n",
       "      <td>38.5</td>\n",
       "      <td>0</td>\n",
       "      <td>0</td>\n",
       "      <td>SOTON/O.Q. 3101262</td>\n",
       "      <td>7.2500</td>\n",
       "      <td>NaN</td>\n",
       "      <td>S</td>\n",
       "    </tr>\n",
       "    <tr>\n",
       "      <th>416</th>\n",
       "      <td>1308</td>\n",
       "      <td>0</td>\n",
       "      <td>3</td>\n",
       "      <td>Ware, Mr. Frederick</td>\n",
       "      <td>male</td>\n",
       "      <td>NaN</td>\n",
       "      <td>0</td>\n",
       "      <td>0</td>\n",
       "      <td>359309</td>\n",
       "      <td>8.0500</td>\n",
       "      <td>NaN</td>\n",
       "      <td>S</td>\n",
       "    </tr>\n",
       "    <tr>\n",
       "      <th>417</th>\n",
       "      <td>1309</td>\n",
       "      <td>0</td>\n",
       "      <td>3</td>\n",
       "      <td>Peter, Master. Michael J</td>\n",
       "      <td>male</td>\n",
       "      <td>NaN</td>\n",
       "      <td>1</td>\n",
       "      <td>1</td>\n",
       "      <td>2668</td>\n",
       "      <td>22.3583</td>\n",
       "      <td>NaN</td>\n",
       "      <td>C</td>\n",
       "    </tr>\n",
       "  </tbody>\n",
       "</table>\n",
       "<p>418 rows × 12 columns</p>\n",
       "</div>"
      ],
      "text/plain": [
       "     PassengerId  Survived  Pclass  \\\n",
       "0            892         0       3   \n",
       "1            893         1       3   \n",
       "2            894         0       2   \n",
       "3            895         0       3   \n",
       "4            896         1       3   \n",
       "..           ...       ...     ...   \n",
       "413         1305         0       3   \n",
       "414         1306         1       1   \n",
       "415         1307         0       3   \n",
       "416         1308         0       3   \n",
       "417         1309         0       3   \n",
       "\n",
       "                                             Name     Sex   Age  SibSp  Parch  \\\n",
       "0                                Kelly, Mr. James    male  34.5      0      0   \n",
       "1                Wilkes, Mrs. James (Ellen Needs)  female  47.0      1      0   \n",
       "2                       Myles, Mr. Thomas Francis    male  62.0      0      0   \n",
       "3                                Wirz, Mr. Albert    male  27.0      0      0   \n",
       "4    Hirvonen, Mrs. Alexander (Helga E Lindqvist)  female  22.0      1      1   \n",
       "..                                            ...     ...   ...    ...    ...   \n",
       "413                            Spector, Mr. Woolf    male   NaN      0      0   \n",
       "414                  Oliva y Ocana, Dona. Fermina  female  39.0      0      0   \n",
       "415                  Saether, Mr. Simon Sivertsen    male  38.5      0      0   \n",
       "416                           Ware, Mr. Frederick    male   NaN      0      0   \n",
       "417                      Peter, Master. Michael J    male   NaN      1      1   \n",
       "\n",
       "                 Ticket      Fare Cabin Embarked  \n",
       "0                330911    7.8292   NaN        Q  \n",
       "1                363272    7.0000   NaN        S  \n",
       "2                240276    9.6875   NaN        Q  \n",
       "3                315154    8.6625   NaN        S  \n",
       "4               3101298   12.2875   NaN        S  \n",
       "..                  ...       ...   ...      ...  \n",
       "413           A.5. 3236    8.0500   NaN        S  \n",
       "414            PC 17758  108.9000  C105        C  \n",
       "415  SOTON/O.Q. 3101262    7.2500   NaN        S  \n",
       "416              359309    8.0500   NaN        S  \n",
       "417                2668   22.3583   NaN        C  \n",
       "\n",
       "[418 rows x 12 columns]"
      ]
     },
     "execution_count": 8,
     "metadata": {},
     "output_type": "execute_result"
    }
   ],
   "source": [
    "df_merge"
   ]
  },
  {
   "cell_type": "code",
   "execution_count": 9,
   "id": "3aaba6cf",
   "metadata": {
    "execution": {
     "iopub.execute_input": "2025-04-23T19:16:19.241654Z",
     "iopub.status.busy": "2025-04-23T19:16:19.240969Z",
     "iopub.status.idle": "2025-04-23T19:16:19.258664Z",
     "shell.execute_reply": "2025-04-23T19:16:19.257393Z"
    },
    "papermill": {
     "duration": 0.034115,
     "end_time": "2025-04-23T19:16:19.261792",
     "exception": false,
     "start_time": "2025-04-23T19:16:19.227677",
     "status": "completed"
    },
    "tags": []
   },
   "outputs": [
    {
     "name": "stdout",
     "output_type": "stream",
     "text": [
      "<class 'pandas.core.series.Series'>\n",
      "RangeIndex: 418 entries, 0 to 417\n",
      "Series name: Cabin\n",
      "Non-Null Count  Dtype \n",
      "--------------  ----- \n",
      "91 non-null     object\n",
      "dtypes: object(1)\n",
      "memory usage: 3.4+ KB\n"
     ]
    }
   ],
   "source": [
    "# notei que o df_merge na coluna cabin tem valores NA, vou verificar\n",
    "\n",
    "df_merge['Cabin'].info()\n",
    "\n",
    "## pelo info() é possivel verificar nonnul valores, verifiquei que de 418 entries apenas 91 são non-ni\n"
   ]
  },
  {
   "cell_type": "code",
   "execution_count": 10,
   "id": "b038dbbb",
   "metadata": {
    "execution": {
     "iopub.execute_input": "2025-04-23T19:16:19.282613Z",
     "iopub.status.busy": "2025-04-23T19:16:19.282030Z",
     "iopub.status.idle": "2025-04-23T19:16:19.289525Z",
     "shell.execute_reply": "2025-04-23T19:16:19.288193Z"
    },
    "papermill": {
     "duration": 0.020319,
     "end_time": "2025-04-23T19:16:19.293572",
     "exception": false,
     "start_time": "2025-04-23T19:16:19.273253",
     "status": "completed"
    },
    "tags": []
   },
   "outputs": [],
   "source": [
    "df_na = df_merge['Fare'].isna()"
   ]
  },
  {
   "cell_type": "code",
   "execution_count": 11,
   "id": "7d6bba86",
   "metadata": {
    "execution": {
     "iopub.execute_input": "2025-04-23T19:16:19.313199Z",
     "iopub.status.busy": "2025-04-23T19:16:19.312655Z",
     "iopub.status.idle": "2025-04-23T19:16:19.324916Z",
     "shell.execute_reply": "2025-04-23T19:16:19.323771Z"
    },
    "papermill": {
     "duration": 0.025856,
     "end_time": "2025-04-23T19:16:19.327898",
     "exception": false,
     "start_time": "2025-04-23T19:16:19.302042",
     "status": "completed"
    },
    "tags": []
   },
   "outputs": [
    {
     "data": {
      "text/plain": [
       "0      False\n",
       "1      False\n",
       "2      False\n",
       "3      False\n",
       "4      False\n",
       "       ...  \n",
       "413    False\n",
       "414    False\n",
       "415    False\n",
       "416    False\n",
       "417    False\n",
       "Name: Fare, Length: 418, dtype: bool"
      ]
     },
     "execution_count": 11,
     "metadata": {},
     "output_type": "execute_result"
    }
   ],
   "source": [
    "df_na"
   ]
  },
  {
   "cell_type": "code",
   "execution_count": 12,
   "id": "7f8a0ed9",
   "metadata": {
    "execution": {
     "iopub.execute_input": "2025-04-23T19:16:19.343309Z",
     "iopub.status.busy": "2025-04-23T19:16:19.342764Z",
     "iopub.status.idle": "2025-04-23T19:16:19.359769Z",
     "shell.execute_reply": "2025-04-23T19:16:19.357836Z"
    },
    "papermill": {
     "duration": 0.02855,
     "end_time": "2025-04-23T19:16:19.363057",
     "exception": false,
     "start_time": "2025-04-23T19:16:19.334507",
     "status": "completed"
    },
    "tags": []
   },
   "outputs": [
    {
     "data": {
      "text/plain": [
       "Cabin\n",
       "False    94.903162\n",
       "True     19.080828\n",
       "Name: Fare, dtype: float64"
      ]
     },
     "execution_count": 12,
     "metadata": {},
     "output_type": "execute_result"
    }
   ],
   "source": [
    "df_merge.groupby(df_merge['Cabin'].isna())['Fare'].mean()\n",
    "\n",
    "# A Média de 'Fare' de quem tem cabine demarcada para quem não tem é quase 5x maior, isso me indica que provávelmente minha hipotese esta certa NaN indica que não tem cabine demarcada e por isso pagou mais barato enquanto quem tinha, tinha sua cabine com número reservado."
   ]
  },
  {
   "cell_type": "code",
   "execution_count": 13,
   "id": "c388ace4",
   "metadata": {
    "execution": {
     "iopub.execute_input": "2025-04-23T19:16:19.375948Z",
     "iopub.status.busy": "2025-04-23T19:16:19.375503Z",
     "iopub.status.idle": "2025-04-23T19:16:19.386353Z",
     "shell.execute_reply": "2025-04-23T19:16:19.385178Z"
    },
    "papermill": {
     "duration": 0.020215,
     "end_time": "2025-04-23T19:16:19.388723",
     "exception": false,
     "start_time": "2025-04-23T19:16:19.368508",
     "status": "completed"
    },
    "tags": []
   },
   "outputs": [
    {
     "data": {
      "text/plain": [
       "Cabin\n",
       "False     91\n",
       "True     326\n",
       "Name: Fare, dtype: int64"
      ]
     },
     "execution_count": 13,
     "metadata": {},
     "output_type": "execute_result"
    }
   ],
   "source": [
    "df_merge.groupby(df_merge['Cabin'].isna())['Fare'].count()\n",
    "\n",
    "# Número de pessoas com Cabine demarcada ou não"
   ]
  },
  {
   "cell_type": "code",
   "execution_count": 14,
   "id": "deb8ac32",
   "metadata": {
    "execution": {
     "iopub.execute_input": "2025-04-23T19:16:19.401273Z",
     "iopub.status.busy": "2025-04-23T19:16:19.400856Z",
     "iopub.status.idle": "2025-04-23T19:16:19.416497Z",
     "shell.execute_reply": "2025-04-23T19:16:19.415406Z"
    },
    "papermill": {
     "duration": 0.025614,
     "end_time": "2025-04-23T19:16:19.419798",
     "exception": false,
     "start_time": "2025-04-23T19:16:19.394184",
     "status": "completed"
    },
    "tags": []
   },
   "outputs": [
    {
     "data": {
      "text/html": [
       "<div>\n",
       "<style scoped>\n",
       "    .dataframe tbody tr th:only-of-type {\n",
       "        vertical-align: middle;\n",
       "    }\n",
       "\n",
       "    .dataframe tbody tr th {\n",
       "        vertical-align: top;\n",
       "    }\n",
       "\n",
       "    .dataframe thead th {\n",
       "        text-align: right;\n",
       "    }\n",
       "</style>\n",
       "<table border=\"1\" class=\"dataframe\">\n",
       "  <thead>\n",
       "    <tr style=\"text-align: right;\">\n",
       "      <th></th>\n",
       "      <th>PassengerId</th>\n",
       "      <th>Survived</th>\n",
       "      <th>Pclass</th>\n",
       "      <th>Name</th>\n",
       "      <th>Sex</th>\n",
       "      <th>Age</th>\n",
       "      <th>SibSp</th>\n",
       "      <th>Parch</th>\n",
       "      <th>Ticket</th>\n",
       "      <th>Fare</th>\n",
       "      <th>Cabin</th>\n",
       "      <th>Embarked</th>\n",
       "    </tr>\n",
       "  </thead>\n",
       "  <tbody>\n",
       "    <tr>\n",
       "      <th>266</th>\n",
       "      <td>1158</td>\n",
       "      <td>0</td>\n",
       "      <td>1</td>\n",
       "      <td>Chisholm, Mr. Roderick Robert Crispin</td>\n",
       "      <td>male</td>\n",
       "      <td>NaN</td>\n",
       "      <td>0</td>\n",
       "      <td>0</td>\n",
       "      <td>112051</td>\n",
       "      <td>0.0</td>\n",
       "      <td>NaN</td>\n",
       "      <td>S</td>\n",
       "    </tr>\n",
       "    <tr>\n",
       "      <th>372</th>\n",
       "      <td>1264</td>\n",
       "      <td>0</td>\n",
       "      <td>1</td>\n",
       "      <td>Ismay, Mr. Joseph Bruce</td>\n",
       "      <td>male</td>\n",
       "      <td>49.0</td>\n",
       "      <td>0</td>\n",
       "      <td>0</td>\n",
       "      <td>112058</td>\n",
       "      <td>0.0</td>\n",
       "      <td>B52 B54 B56</td>\n",
       "      <td>S</td>\n",
       "    </tr>\n",
       "  </tbody>\n",
       "</table>\n",
       "</div>"
      ],
      "text/plain": [
       "     PassengerId  Survived  Pclass                                   Name  \\\n",
       "266         1158         0       1  Chisholm, Mr. Roderick Robert Crispin   \n",
       "372         1264         0       1                Ismay, Mr. Joseph Bruce   \n",
       "\n",
       "      Sex   Age  SibSp  Parch  Ticket  Fare        Cabin Embarked  \n",
       "266  male   NaN      0      0  112051   0.0          NaN        S  \n",
       "372  male  49.0      0      0  112058   0.0  B52 B54 B56        S  "
      ]
     },
     "execution_count": 14,
     "metadata": {},
     "output_type": "execute_result"
    }
   ],
   "source": [
    "df_merge[df_merge['Fare'] == 0.0]\n",
    "\n",
    "# Havia notado que tinha valores zerados em 'Fare', decidi verificar, são o presidente da companhia de criação do navio e o projetista."
   ]
  },
  {
   "cell_type": "code",
   "execution_count": 15,
   "id": "da05d1bf",
   "metadata": {
    "execution": {
     "iopub.execute_input": "2025-04-23T19:16:19.433248Z",
     "iopub.status.busy": "2025-04-23T19:16:19.432872Z",
     "iopub.status.idle": "2025-04-23T19:16:19.446852Z",
     "shell.execute_reply": "2025-04-23T19:16:19.444704Z"
    },
    "papermill": {
     "duration": 0.023884,
     "end_time": "2025-04-23T19:16:19.449436",
     "exception": false,
     "start_time": "2025-04-23T19:16:19.425552",
     "status": "completed"
    },
    "tags": []
   },
   "outputs": [
    {
     "name": "stdout",
     "output_type": "stream",
     "text": [
      "<class 'pandas.core.frame.DataFrame'>\n",
      "RangeIndex: 418 entries, 0 to 417\n",
      "Data columns (total 12 columns):\n",
      " #   Column       Non-Null Count  Dtype  \n",
      "---  ------       --------------  -----  \n",
      " 0   PassengerId  418 non-null    int64  \n",
      " 1   Survived     418 non-null    int64  \n",
      " 2   Pclass       418 non-null    int64  \n",
      " 3   Name         418 non-null    object \n",
      " 4   Sex          418 non-null    object \n",
      " 5   Age          332 non-null    float64\n",
      " 6   SibSp        418 non-null    int64  \n",
      " 7   Parch        418 non-null    int64  \n",
      " 8   Ticket       418 non-null    object \n",
      " 9   Fare         417 non-null    float64\n",
      " 10  Cabin        91 non-null     object \n",
      " 11  Embarked     418 non-null    object \n",
      "dtypes: float64(2), int64(5), object(5)\n",
      "memory usage: 39.3+ KB\n"
     ]
    }
   ],
   "source": [
    "#Agora vou analisar o PcClass, o nome me indica que é uma coluna que diz a classe do tripulante:\n",
    "\n",
    "#1. Vou analisar se temos NaN ou valores zerados:\n",
    "df_merge.info()"
   ]
  },
  {
   "cell_type": "code",
   "execution_count": 16,
   "id": "ebe4d128",
   "metadata": {
    "execution": {
     "iopub.execute_input": "2025-04-23T19:16:19.463254Z",
     "iopub.status.busy": "2025-04-23T19:16:19.462882Z",
     "iopub.status.idle": "2025-04-23T19:16:19.471217Z",
     "shell.execute_reply": "2025-04-23T19:16:19.470135Z"
    },
    "papermill": {
     "duration": 0.018183,
     "end_time": "2025-04-23T19:16:19.473717",
     "exception": false,
     "start_time": "2025-04-23T19:16:19.455534",
     "status": "completed"
    },
    "tags": []
   },
   "outputs": [
    {
     "data": {
      "text/plain": [
       "Pclass\n",
       "1    107\n",
       "2     93\n",
       "3    218\n",
       "Name: Pclass, dtype: int64"
      ]
     },
     "execution_count": 16,
     "metadata": {},
     "output_type": "execute_result"
    }
   ],
   "source": [
    "#Em Pclass não temos NaN ou Null\n",
    "# Agora vou agrupar por classe:\n",
    "df_merge.groupby(df_merge['Pclass'])['Pclass'].count()"
   ]
  },
  {
   "cell_type": "code",
   "execution_count": 17,
   "id": "86a18054",
   "metadata": {
    "execution": {
     "iopub.execute_input": "2025-04-23T19:16:19.486555Z",
     "iopub.status.busy": "2025-04-23T19:16:19.486179Z",
     "iopub.status.idle": "2025-04-23T19:16:19.495171Z",
     "shell.execute_reply": "2025-04-23T19:16:19.493872Z"
    },
    "papermill": {
     "duration": 0.017969,
     "end_time": "2025-04-23T19:16:19.497155",
     "exception": false,
     "start_time": "2025-04-23T19:16:19.479186",
     "status": "completed"
    },
    "tags": []
   },
   "outputs": [
    {
     "data": {
      "text/plain": [
       "Pclass\n",
       "1    94.280297\n",
       "2    22.202104\n",
       "3    12.459678\n",
       "Name: Fare, dtype: float64"
      ]
     },
     "execution_count": 17,
     "metadata": {},
     "output_type": "execute_result"
    }
   ],
   "source": [
    "# O código anterior me diz que temos 200 pessoas de primeira e segunda classe contra 218 de terceira, já esperava que teriamos mais da terceira que da primeira e segunda\n",
    "#No entanto o que me chama mais atenção é que temos mais da primeira classe do que dá segunda, seria por algo relacionado a \"fare\" paga?\n",
    "df_merge.groupby(df_merge['Pclass'])['Fare'].mean()"
   ]
  },
  {
   "cell_type": "code",
   "execution_count": 18,
   "id": "3160d21f",
   "metadata": {
    "execution": {
     "iopub.execute_input": "2025-04-23T19:16:19.510515Z",
     "iopub.status.busy": "2025-04-23T19:16:19.510122Z",
     "iopub.status.idle": "2025-04-23T19:16:19.518704Z",
     "shell.execute_reply": "2025-04-23T19:16:19.517691Z"
    },
    "papermill": {
     "duration": 0.018132,
     "end_time": "2025-04-23T19:16:19.520977",
     "exception": false,
     "start_time": "2025-04-23T19:16:19.502845",
     "status": "completed"
    },
    "tags": []
   },
   "outputs": [
    {
     "data": {
      "text/plain": [
       "Pclass\n",
       "1    80\n",
       "2     7\n",
       "3     4\n",
       "Name: Cabin, dtype: int64"
      ]
     },
     "execution_count": 18,
     "metadata": {},
     "output_type": "execute_result"
    }
   ],
   "source": [
    "## Acima da para verificar uma descrepância bem grande referente a segunda e terceira classe vs primeira.\n",
    "# o que me chama atenção é a média da primeira classe ser parecida com o pessoal que tinha cabine separada, vamos investigar se quem tem cabine\n",
    "# demarcada é obrigatóriamente primeira classe.\n",
    "df_merge.groupby(df_merge['Pclass'])['Cabin'].count()"
   ]
  }
 ],
 "metadata": {
  "kaggle": {
   "accelerator": "none",
   "dataSources": [
    {
     "databundleVersionId": 26502,
     "sourceId": 3136,
     "sourceType": "competition"
    }
   ],
   "dockerImageVersionId": 30746,
   "isGpuEnabled": false,
   "isInternetEnabled": false,
   "language": "python",
   "sourceType": "notebook"
  },
  "kernelspec": {
   "display_name": "Python 3",
   "language": "python",
   "name": "python3"
  },
  "language_info": {
   "codemirror_mode": {
    "name": "ipython",
    "version": 3
   },
   "file_extension": ".py",
   "mimetype": "text/x-python",
   "name": "python",
   "nbconvert_exporter": "python",
   "pygments_lexer": "ipython3",
   "version": "3.10.13"
  },
  "papermill": {
   "default_parameters": {},
   "duration": 5.690614,
   "end_time": "2025-04-23T19:16:20.047984",
   "environment_variables": {},
   "exception": null,
   "input_path": "__notebook__.ipynb",
   "output_path": "__notebook__.ipynb",
   "parameters": {},
   "start_time": "2025-04-23T19:16:14.357370",
   "version": "2.5.0"
  }
 },
 "nbformat": 4,
 "nbformat_minor": 5
}
